{
 "cells": [
  {
   "attachments": {},
   "cell_type": "markdown",
   "metadata": {},
   "source": [
    "# Logistic Regression \n",
    "<p> Implement multiclass logistic regression for MNIST. You should try both PCA and LDA for dimensionality reduction, first. In brief, multiclass logistic regression models the class posteriors of an image log-linearly in terms of its features so that \n",
    "\n",
    "$$\n",
    "P\\left(y_{m, n}=1 \\mid \\mathbf{x}_n\\right)=\\frac{\\exp \\left(\\boldsymbol{\\theta}_m^{\\top} \\mathbf{x}_n\\right)}{\\sum_{i=1}^M \\exp \\left(\\boldsymbol{\\theta}_i^{\\top} \\mathbf{x}_n\\right)}\n",
    "$$\n",
    "\n",
    "i.e. the\n",
    "softmax function, where ym,n is the indicator of xn being in class ωm. The model\n",
    "parameters are estimated to minimize the negative log-likelihood of the class labels,\n",
    "which are encoded as categorical vectors. The negative log-likelihood takes the form\n",
    "$$\n",
    "\\ell\\left(\\boldsymbol{\\theta}_1, \\cdots, \\boldsymbol{\\theta}_M\\right)=-\\sum_{n=1}^N \\sum_{m=1}^M y_{m, n} \\ln \\left(\\frac{\\exp \\left(\\boldsymbol{\\theta}_m^{\\top} \\mathbf{x}_n\\right)}{\\sum_{i=1}^M \\exp \\left(\\boldsymbol{\\theta}_i^{\\top} \\mathbf{x}_n\\right)}\\right)\n",
    "$$\n",
    "\n",
    "\n",
    "; this is sometimes called\n",
    "the cross-entropy loss function."
   ]
  },
  {
   "cell_type": "code",
   "execution_count": 1,
   "metadata": {},
   "outputs": [],
   "source": [
    "import numpy as np\n",
    "import pandas as pd\n",
    "\n",
    "from tqdm import tqdm\n",
    "from utils import *\n"
   ]
  },
  {
   "cell_type": "code",
   "execution_count": 2,
   "metadata": {},
   "outputs": [],
   "source": [
    "import warnings\n",
    "warnings.filterwarnings('ignore')\n"
   ]
  },
  {
   "cell_type": "code",
   "execution_count": 3,
   "metadata": {},
   "outputs": [],
   "source": [
    "np.random.seed(1024)\n"
   ]
  },
  {
   "attachments": {},
   "cell_type": "markdown",
   "metadata": {},
   "source": [
    ">> If Running for the first time Uncomment and run the following cell"
   ]
  },
  {
   "cell_type": "code",
   "execution_count": 4,
   "metadata": {},
   "outputs": [],
   "source": [
    "## train_load,test_load = load_dataset(False)\n"
   ]
  },
  {
   "cell_type": "code",
   "execution_count": 5,
   "metadata": {},
   "outputs": [
    {
     "data": {
      "text/plain": [
       "((60000, 784), (60000,), (10000, 784), (10000,))"
      ]
     },
     "execution_count": 5,
     "metadata": {},
     "output_type": "execute_result"
    }
   ],
   "source": [
    "# Load Downloaded Data and Normalize\n",
    "from mlxtend.data import loadlocal_mnist\n",
    "from sklearn.preprocessing import StandardScaler\n",
    "import platform\n",
    "\n",
    "train_X, train_y = loadlocal_mnist(\n",
    "    images_path='dataset/MNIST/raw/train-images-idx3-ubyte',\n",
    "    labels_path='dataset/MNIST/raw/train-labels-idx1-ubyte')\n",
    "\n",
    "test_X, test_y = loadlocal_mnist(\n",
    "    images_path='dataset/MNIST/raw/t10k-images-idx3-ubyte',\n",
    "    labels_path='dataset/MNIST/raw/t10k-labels-idx1-ubyte')\n",
    "\n",
    "# Normalize Data:\n",
    "sc = StandardScaler()\n",
    "\n",
    "# First fit then transform\n",
    "train_X = sc.fit_transform(train_X)\n",
    "test_X = sc.transform(test_X)\n",
    "N = train_X.shape[1]\n",
    "C = len(set(train_y))\n",
    "assert (C == 10)\n",
    "train_X.shape, train_y.shape, test_X.shape, test_y.shape\n"
   ]
  },
  {
   "attachments": {},
   "cell_type": "markdown",
   "metadata": {},
   "source": [
    ">> Set hyperparameters to loop and train"
   ]
  },
  {
   "cell_type": "code",
   "execution_count": 6,
   "metadata": {},
   "outputs": [],
   "source": [
    "from numpy import random\n",
    "from utils import *\n"
   ]
  },
  {
   "cell_type": "code",
   "execution_count": 7,
   "metadata": {},
   "outputs": [],
   "source": [
    "# Predict and calculate metrics\n",
    "def test(x, y, w, b) -> tuple[float, float]:\n",
    "    try:\n",
    "        samples = len(y)\n",
    "        idx = [np.squeeze(softmax((x[i]@ w.T))) for i in range(samples)]\n",
    "        idx = np.array(np.array(idx))\n",
    "        correct = sum(np.argmax(idx,axis=1)==y)/samples\n",
    "        error = [negative_log_likelihood(idx[i],y[i]) for i in range(samples)]\n",
    "        return correct,sum(error)\n",
    "    except Exception as ex:\n",
    "        print(ex)\n"
   ]
  },
  {
   "cell_type": "code",
   "execution_count": 8,
   "metadata": {},
   "outputs": [],
   "source": [
    "def LogisticRegression(train_X, test_X, train_y, test_y,lr = 0.0025, batch_size=100,epoch=15):\n",
    "    H, N = train_X.shape[0], train_X.shape[1]\n",
    "    # Initialize momentum:\n",
    "    w = random.randn(C, N) / np.sqrt(C*N)\n",
    "    b = random.rand(C, 1)/np.sqrt(N)\n",
    "    epoch_result1 = []\n",
    "    epoch_result2 = []\n",
    "    epoch_result3 = []\n",
    "    epoch_result4 = []\n",
    "    w_dash = np.zeros(w.shape)\n",
    "    b_dash = np.zeros(b.shape)\n",
    "    loss = 0\n",
    "    accuraccy = []\n",
    "    for iter in tqdm(range(epoch)):\n",
    "        shuffle = random.choice(H, H, replace=False)\n",
    "\n",
    "        # Divide data in batches:\n",
    "        total_batches = int(H/batch_size)\n",
    "        train_X_chunks = np.array_split(train_X, total_batches)\n",
    "        train_y_chunks = np.array_split(train_y, total_batches)\n",
    "        for batch in range(total_batches):\n",
    "            x = train_X_chunks[batch]\n",
    "            y = train_y_chunks[batch]\n",
    "            # loss = 0\n",
    "\n",
    "            lst_dw, lst_db = [], []\n",
    "            for point in range(x.shape[0]):\n",
    "                x_p = (x[point]).reshape((784, 1))\n",
    "                y_p = y[point]\n",
    "                # Predict\n",
    "                y_hat_ = softmax((w@x_p)+b)\n",
    "                # Get Loss\n",
    "                loss += negative_log_likelihood(y_hat_, y_p)\n",
    "                # Get gradients:\n",
    "                k = np.zeros((10, 1))\n",
    "                k[y_p][0] = 1\n",
    "                lst_dw.append(-1*((k-y_hat_) @ x_p.reshape((1, 784))))\n",
    "                lst_db.append(-1*(k-y_hat_))\n",
    "            \n",
    "            ## Momentum:\n",
    "            w_dash = 0.9*w_dash + lr*(sum(lst_dw)/(x.shape[0]))\n",
    "            b_dash = 0.9*b_dash+lr*(sum(lst_db)/(x.shape[0]))\n",
    "            w-=w_dash\n",
    "            b-=b_dash\n",
    "            #print('\\t\\t-- ',iter,' : ',loss,' --')\n",
    "        train_acc,train_loss = test(train_X,train_y,w,b)\n",
    "        epoch_result1.append(train_acc)\n",
    "        epoch_result2.append(train_loss/float(100))\n",
    "        \n",
    "        print('-- Train: ',iter,': Accuraccy = ',train_acc,'\\tError: ',train_loss/float(100),' --')\n",
    "        test_acc,test_loss = test(test_X,test_y,w,b)\n",
    "        print('-- Test: ',iter,': Accuraccy = ',test_acc,'\\tError: ',test_loss/float(100),' --')\n",
    "        epoch_result3.append(test_acc)\n",
    "        epoch_result4.append(test_loss/float(100))\n",
    "\n",
    "    ## Plot Training Results\n",
    "    plt.plot(range(epoch), epoch_result1, 'g', label='Training Accuraccy')\n",
    "    plt.title('Training accuraccy')\n",
    "    plt.xlabel('Epochs')\n",
    "    plt.ylabel('Accuracy')\n",
    "    plt.legend()\n",
    "    plt.show()\n",
    "    ## Plot Training Results\n",
    "    plt.plot(range(epoch), epoch_result2, 'r', label='Training loss')\n",
    "    plt.title('Training loss')\n",
    "    plt.xlabel('Epochs')\n",
    "    plt.ylabel('Loss')\n",
    "    plt.legend()\n",
    "    plt.show()\n",
    "    ## Plot Testing Results\n",
    "    plt.plot(range(epoch), epoch_result3, 'g', label='Testing Accuraccy')\n",
    "    plt.title('Testing accuraccy ')\n",
    "    plt.xlabel('Epochs')\n",
    "    plt.ylabel('Accuracy')\n",
    "    plt.legend()\n",
    "    plt.show()\n",
    "    ## Plot Testing Results\n",
    "    plt.plot(range(epoch), epoch_result4, 'r', label='Testing loss')\n",
    "    plt.title('Testing loss')\n",
    "    plt.xlabel('Epochs')\n",
    "    plt.ylabel('Loss')\n",
    "    plt.legend()\n",
    "    plt.show()\n",
    "    return [epoch_result1,epoch_result2,epoch_result3,epoch_result4]\n",
    "\n"
   ]
  },
  {
   "cell_type": "code",
   "execution_count": 9,
   "metadata": {},
   "outputs": [
    {
     "name": "stderr",
     "output_type": "stream",
     "text": [
      "  7%|▋         | 1/15 [00:04<00:58,  4.17s/it]"
     ]
    },
    {
     "name": "stdout",
     "output_type": "stream",
     "text": [
      "-- Train:  0 : Accuraccy =  0.8807166666666667 \tError:  268.2633991996311  --\n",
      "-- Test:  0 : Accuraccy =  0.8848 \tError:  43.547988196162976  --\n"
     ]
    },
    {
     "name": "stderr",
     "output_type": "stream",
     "text": [
      " 13%|█▎        | 2/15 [00:08<00:56,  4.34s/it]"
     ]
    },
    {
     "name": "stdout",
     "output_type": "stream",
     "text": [
      "-- Train:  1 : Accuraccy =  0.8956833333333334 \tError:  229.13691327262026  --\n",
      "-- Test:  1 : Accuraccy =  0.8986 \tError:  37.35315754574651  --\n"
     ]
    },
    {
     "name": "stderr",
     "output_type": "stream",
     "text": [
      " 20%|██        | 3/15 [00:13<00:53,  4.43s/it]"
     ]
    },
    {
     "name": "stdout",
     "output_type": "stream",
     "text": [
      "-- Train:  2 : Accuraccy =  0.9018833333333334 \tError:  212.3397253976775  --\n",
      "-- Test:  2 : Accuraccy =  0.9024 \tError:  34.7762408060336  --\n"
     ]
    },
    {
     "name": "stderr",
     "output_type": "stream",
     "text": [
      " 27%|██▋       | 4/15 [00:17<00:48,  4.43s/it]"
     ]
    },
    {
     "name": "stdout",
     "output_type": "stream",
     "text": [
      "-- Train:  3 : Accuraccy =  0.9057833333333334 \tError:  202.43752463408563  --\n",
      "-- Test:  3 : Accuraccy =  0.9059 \tError:  33.30612253622273  --\n"
     ]
    },
    {
     "name": "stderr",
     "output_type": "stream",
     "text": [
      " 33%|███▎      | 5/15 [00:22<00:44,  4.48s/it]"
     ]
    },
    {
     "name": "stdout",
     "output_type": "stream",
     "text": [
      "-- Train:  4 : Accuraccy =  0.9084666666666666 \tError:  195.73140109521992  --\n",
      "-- Test:  4 : Accuraccy =  0.908 \tError:  32.34287847975802  --\n"
     ]
    },
    {
     "name": "stderr",
     "output_type": "stream",
     "text": [
      " 40%|████      | 6/15 [00:26<00:40,  4.53s/it]"
     ]
    },
    {
     "name": "stdout",
     "output_type": "stream",
     "text": [
      "-- Train:  5 : Accuraccy =  0.9106333333333333 \tError:  190.8126332266977  --\n",
      "-- Test:  5 : Accuraccy =  0.9092 \tError:  31.659575417224758  --\n"
     ]
    },
    {
     "name": "stderr",
     "output_type": "stream",
     "text": [
      " 47%|████▋     | 7/15 [00:31<00:35,  4.49s/it]"
     ]
    },
    {
     "name": "stdout",
     "output_type": "stream",
     "text": [
      "-- Train:  6 : Accuraccy =  0.9123166666666667 \tError:  187.0138764383951  --\n",
      "-- Test:  6 : Accuraccy =  0.9104 \tError:  31.15002171339458  --\n"
     ]
    },
    {
     "name": "stderr",
     "output_type": "stream",
     "text": [
      " 53%|█████▎    | 8/15 [00:35<00:31,  4.51s/it]"
     ]
    },
    {
     "name": "stdout",
     "output_type": "stream",
     "text": [
      "-- Train:  7 : Accuraccy =  0.9137666666666666 \tError:  183.9711880376212  --\n",
      "-- Test:  7 : Accuraccy =  0.9117 \tError:  30.756651717123454  --\n"
     ]
    },
    {
     "name": "stderr",
     "output_type": "stream",
     "text": [
      " 60%|██████    | 9/15 [00:40<00:26,  4.50s/it]"
     ]
    },
    {
     "name": "stdout",
     "output_type": "stream",
     "text": [
      "-- Train:  8 : Accuraccy =  0.91495 \tError:  181.46703961355735  --\n",
      "-- Test:  8 : Accuraccy =  0.9129 \tError:  30.445038450164496  --\n"
     ]
    },
    {
     "name": "stderr",
     "output_type": "stream",
     "text": [
      " 67%|██████▋   | 10/15 [00:44<00:22,  4.49s/it]"
     ]
    },
    {
     "name": "stdout",
     "output_type": "stream",
     "text": [
      "-- Train:  9 : Accuraccy =  0.9159166666666667 \tError:  179.36262627473982  --\n",
      "-- Test:  9 : Accuraccy =  0.9134 \tError:  30.193287263706626  --\n"
     ]
    },
    {
     "name": "stderr",
     "output_type": "stream",
     "text": [
      " 73%|███████▎  | 11/15 [00:49<00:18,  4.51s/it]"
     ]
    },
    {
     "name": "stdout",
     "output_type": "stream",
     "text": [
      "-- Train:  10 : Accuraccy =  0.9167166666666666 \tError:  177.56464730074106  --\n",
      "-- Test:  10 : Accuraccy =  0.9146 \tError:  29.986762832563592  --\n"
     ]
    },
    {
     "name": "stderr",
     "output_type": "stream",
     "text": [
      " 80%|████████  | 12/15 [00:53<00:13,  4.51s/it]"
     ]
    },
    {
     "name": "stdout",
     "output_type": "stream",
     "text": [
      "-- Train:  11 : Accuraccy =  0.9171333333333334 \tError:  176.00768268525934  --\n",
      "-- Test:  11 : Accuraccy =  0.9154 \tError:  29.81527880131742  --\n"
     ]
    },
    {
     "name": "stderr",
     "output_type": "stream",
     "text": [
      " 87%|████████▋ | 13/15 [00:58<00:09,  4.54s/it]"
     ]
    },
    {
     "name": "stdout",
     "output_type": "stream",
     "text": [
      "-- Train:  12 : Accuraccy =  0.91765 \tError:  174.64422443888193  --\n",
      "-- Test:  12 : Accuraccy =  0.9157 \tError:  29.67151025165049  --\n"
     ]
    },
    {
     "name": "stderr",
     "output_type": "stream",
     "text": [
      " 93%|█████████▎| 14/15 [01:02<00:04,  4.52s/it]"
     ]
    },
    {
     "name": "stdout",
     "output_type": "stream",
     "text": [
      "-- Train:  13 : Accuraccy =  0.9184166666666667 \tError:  173.4387931374934  --\n",
      "-- Test:  13 : Accuraccy =  0.9163 \tError:  29.55004042458934  --\n"
     ]
    },
    {
     "name": "stderr",
     "output_type": "stream",
     "text": [
      "100%|██████████| 15/15 [01:07<00:00,  4.49s/it]"
     ]
    },
    {
     "name": "stdout",
     "output_type": "stream",
     "text": [
      "-- Train:  14 : Accuraccy =  0.919 \tError:  172.36434395519998  --\n",
      "-- Test:  14 : Accuraccy =  0.916 \tError:  29.446774373369603  --\n"
     ]
    },
    {
     "name": "stderr",
     "output_type": "stream",
     "text": [
      "\n"
     ]
    },
    {
     "data": {
      "image/png": "[encoded data removed]",
      "text/plain": [
       "<Figure size 640x480 with 1 Axes>"
      ]
     },
     "metadata": {},
     "output_type": "display_data"
    },
    {
     "data": {
      "image/png": "[encoded data removed]",
      "text/plain": [
       "<Figure size 640x480 with 1 Axes>"
      ]
     },
     "metadata": {},
     "output_type": "display_data"
    },
    {
     "data": {
      "image/png": "[encoded data removed]",
      "text/plain": [
       "<Figure size 640x480 with 1 Axes>"
      ]
     },
     "metadata": {},
     "output_type": "display_data"
    },
    {
     "data": {
      "image/png": "[encoded data removed]",
      "text/plain": [
       "<Figure size 640x480 with 1 Axes>"
      ]
     },
     "metadata": {},
     "output_type": "display_data"
    }
   ],
   "source": [
    "result = LogisticRegression(train_X, test_X, train_y, test_y,lr = 0.0025, batch_size=500,epoch=15)\n"
   ]
  },
  {
   "cell_type": "code",
   "execution_count": 10,
   "metadata": {},
   "outputs": [
    {
     "data": {
      "text/plain": [
       "(0.919, 0.9163)"
      ]
     },
     "execution_count": 10,
     "metadata": {},
     "output_type": "execute_result"
    }
   ],
   "source": [
    "best_train_acc = result[0]\n",
    "best_test_acc = result[2]\n",
    "\n",
    "best_train_acc = best_train_acc[np.argmax(best_train_acc)]\n",
    "best_test_acc = best_test_acc[np.argmax(best_test_acc)]\n",
    "\n",
    "best_train_acc, best_test_acc"
   ]
  },
  {
   "cell_type": "code",
   "execution_count": 11,
   "metadata": {},
   "outputs": [
    {
     "name": "stderr",
     "output_type": "stream",
     "text": [
      "  1%|          | 1/100 [00:03<05:06,  3.10s/it]"
     ]
    },
    {
     "name": "stdout",
     "output_type": "stream",
     "text": [
      "-- Train:  0 : Accuraccy =  0.9126833333333333 \tError:  184.98225795933845  --\n",
      "-- Test:  0 : Accuraccy =  0.9101 \tError:  31.47007615364484  --\n"
     ]
    },
    {
     "name": "stderr",
     "output_type": "stream",
     "text": [
      "  2%|▏         | 2/100 [00:06<05:04,  3.11s/it]"
     ]
    },
    {
     "name": "stdout",
     "output_type": "stream",
     "text": [
      "-- Train:  1 : Accuraccy =  0.91875 \tError:  173.20712476400547  --\n",
      "-- Test:  1 : Accuraccy =  0.9139 \tError:  30.48869005398944  --\n"
     ]
    },
    {
     "name": "stderr",
     "output_type": "stream",
     "text": [
      "  3%|▎         | 3/100 [00:09<04:57,  3.07s/it]"
     ]
    },
    {
     "name": "stdout",
     "output_type": "stream",
     "text": [
      "-- Train:  2 : Accuraccy =  0.92105 \tError:  167.79883592770489  --\n",
      "-- Test:  2 : Accuraccy =  0.9162 \tError:  29.935155542552625  --\n"
     ]
    },
    {
     "name": "stderr",
     "output_type": "stream",
     "text": [
      "  4%|▍         | 4/100 [00:12<04:56,  3.09s/it]"
     ]
    },
    {
     "name": "stdout",
     "output_type": "stream",
     "text": [
      "-- Train:  3 : Accuraccy =  0.9224 \tError:  165.425320605757  --\n",
      "-- Test:  3 : Accuraccy =  0.9158 \tError:  30.078804046324638  --\n"
     ]
    },
    {
     "name": "stderr",
     "output_type": "stream",
     "text": [
      "  5%|▌         | 5/100 [00:15<04:49,  3.05s/it]"
     ]
    },
    {
     "name": "stdout",
     "output_type": "stream",
     "text": [
      "-- Train:  4 : Accuraccy =  0.923 \tError:  164.50638150971233  --\n",
      "-- Test:  4 : Accuraccy =  0.9164 \tError:  30.491800994895694  --\n"
     ]
    },
    {
     "name": "stderr",
     "output_type": "stream",
     "text": [
      "  6%|▌         | 6/100 [00:18<04:44,  3.02s/it]"
     ]
    },
    {
     "name": "stdout",
     "output_type": "stream",
     "text": [
      "-- Train:  5 : Accuraccy =  0.9232833333333333 \tError:  163.132105925676  --\n",
      "-- Test:  5 : Accuraccy =  0.9161 \tError:  30.342059937710648  --\n"
     ]
    },
    {
     "name": "stderr",
     "output_type": "stream",
     "text": [
      "  7%|▋         | 7/100 [00:21<04:42,  3.03s/it]"
     ]
    },
    {
     "name": "stdout",
     "output_type": "stream",
     "text": [
      "-- Train:  6 : Accuraccy =  0.9237666666666666 \tError:  163.0063746124557  --\n",
      "-- Test:  6 : Accuraccy =  0.9163 \tError:  30.66136543383792  --\n"
     ]
    },
    {
     "name": "stderr",
     "output_type": "stream",
     "text": [
      "  8%|▊         | 8/100 [00:24<04:41,  3.06s/it]"
     ]
    },
    {
     "name": "stdout",
     "output_type": "stream",
     "text": [
      "-- Train:  7 : Accuraccy =  0.9235333333333333 \tError:  162.979598339235  --\n",
      "-- Test:  7 : Accuraccy =  0.9167 \tError:  31.003094624873384  --\n"
     ]
    },
    {
     "name": "stderr",
     "output_type": "stream",
     "text": [
      "  9%|▉         | 9/100 [00:27<04:35,  3.03s/it]"
     ]
    },
    {
     "name": "stdout",
     "output_type": "stream",
     "text": [
      "-- Train:  8 : Accuraccy =  0.9232833333333333 \tError:  162.6442779809175  --\n",
      "-- Test:  8 : Accuraccy =  0.9168 \tError:  30.950968405888858  --\n"
     ]
    },
    {
     "name": "stderr",
     "output_type": "stream",
     "text": [
      " 10%|█         | 10/100 [00:30<04:36,  3.07s/it]"
     ]
    },
    {
     "name": "stdout",
     "output_type": "stream",
     "text": [
      "-- Train:  9 : Accuraccy =  0.9232666666666667 \tError:  163.11157514586398  --\n",
      "-- Test:  9 : Accuraccy =  0.9166 \tError:  31.26083693506378  --\n"
     ]
    },
    {
     "name": "stderr",
     "output_type": "stream",
     "text": [
      " 11%|█         | 11/100 [00:33<04:33,  3.07s/it]"
     ]
    },
    {
     "name": "stdout",
     "output_type": "stream",
     "text": [
      "-- Train:  10 : Accuraccy =  0.9227833333333333 \tError:  163.66835990116422  --\n",
      "-- Test:  10 : Accuraccy =  0.9161 \tError:  31.627991194129734  --\n"
     ]
    },
    {
     "name": "stderr",
     "output_type": "stream",
     "text": [
      " 12%|█▏        | 12/100 [00:36<04:30,  3.08s/it]"
     ]
    },
    {
     "name": "stdout",
     "output_type": "stream",
     "text": [
      "-- Train:  11 : Accuraccy =  0.92265 \tError:  163.56764032231166  --\n",
      "-- Test:  11 : Accuraccy =  0.9158 \tError:  31.57400165956418  --\n"
     ]
    },
    {
     "name": "stderr",
     "output_type": "stream",
     "text": [
      " 13%|█▎        | 13/100 [00:39<04:31,  3.12s/it]"
     ]
    },
    {
     "name": "stdout",
     "output_type": "stream",
     "text": [
      "-- Train:  12 : Accuraccy =  0.9221833333333334 \tError:  164.12525099927478  --\n",
      "-- Test:  12 : Accuraccy =  0.9148 \tError:  31.85362447547188  --\n"
     ]
    },
    {
     "name": "stderr",
     "output_type": "stream",
     "text": [
      " 14%|█▍        | 14/100 [00:43<04:34,  3.20s/it]"
     ]
    },
    {
     "name": "stdout",
     "output_type": "stream",
     "text": [
      "-- Train:  13 : Accuraccy =  0.92175 \tError:  164.6874809572611  --\n",
      "-- Test:  13 : Accuraccy =  0.9144 \tError:  32.23782201869855  --\n"
     ]
    },
    {
     "name": "stderr",
     "output_type": "stream",
     "text": [
      " 15%|█▌        | 15/100 [00:46<04:31,  3.20s/it]"
     ]
    },
    {
     "name": "stdout",
     "output_type": "stream",
     "text": [
      "-- Train:  14 : Accuraccy =  0.9211833333333334 \tError:  165.3031421897771  --\n",
      "-- Test:  14 : Accuraccy =  0.9136 \tError:  32.317322243852104  --\n"
     ]
    },
    {
     "name": "stderr",
     "output_type": "stream",
     "text": [
      " 16%|█▌        | 16/100 [00:49<04:28,  3.19s/it]"
     ]
    },
    {
     "name": "stdout",
     "output_type": "stream",
     "text": [
      "-- Train:  15 : Accuraccy =  0.9205333333333333 \tError:  165.97069263562312  --\n",
      "-- Test:  15 : Accuraccy =  0.9132 \tError:  32.52860682705767  --\n"
     ]
    },
    {
     "name": "stderr",
     "output_type": "stream",
     "text": [
      " 17%|█▋        | 17/100 [00:52<04:26,  3.21s/it]"
     ]
    },
    {
     "name": "stdout",
     "output_type": "stream",
     "text": [
      "-- Train:  16 : Accuraccy =  0.9201 \tError:  166.7999087409748  --\n",
      "-- Test:  16 : Accuraccy =  0.9128 \tError:  32.89386896179367  --\n"
     ]
    },
    {
     "name": "stderr",
     "output_type": "stream",
     "text": [
      " 18%|█▊        | 18/100 [00:56<04:24,  3.23s/it]"
     ]
    },
    {
     "name": "stdout",
     "output_type": "stream",
     "text": [
      "-- Train:  17 : Accuraccy =  0.9195666666666666 \tError:  167.29830330718175  --\n",
      "-- Test:  17 : Accuraccy =  0.9125 \tError:  32.980139935628856  --\n"
     ]
    },
    {
     "name": "stderr",
     "output_type": "stream",
     "text": [
      " 19%|█▉        | 19/100 [00:59<04:21,  3.23s/it]"
     ]
    },
    {
     "name": "stdout",
     "output_type": "stream",
     "text": [
      "-- Train:  18 : Accuraccy =  0.9192166666666667 \tError:  168.0617714648176  --\n",
      "-- Test:  18 : Accuraccy =  0.9118 \tError:  33.21779656489809  --\n"
     ]
    },
    {
     "name": "stderr",
     "output_type": "stream",
     "text": [
      " 20%|██        | 20/100 [01:02<04:18,  3.23s/it]"
     ]
    },
    {
     "name": "stdout",
     "output_type": "stream",
     "text": [
      "-- Train:  19 : Accuraccy =  0.9187 \tError:  168.98041369836582  --\n",
      "-- Test:  19 : Accuraccy =  0.9105 \tError:  33.61331056626588  --\n"
     ]
    },
    {
     "name": "stderr",
     "output_type": "stream",
     "text": [
      " 21%|██        | 21/100 [01:06<04:16,  3.25s/it]"
     ]
    },
    {
     "name": "stdout",
     "output_type": "stream",
     "text": [
      "-- Train:  20 : Accuraccy =  0.9181666666666667 \tError:  169.69230119957294  --\n",
      "-- Test:  20 : Accuraccy =  0.9098 \tError:  33.69252572867144  --\n"
     ]
    },
    {
     "name": "stderr",
     "output_type": "stream",
     "text": [
      " 22%|██▏       | 22/100 [01:09<04:13,  3.26s/it]"
     ]
    },
    {
     "name": "stdout",
     "output_type": "stream",
     "text": [
      "-- Train:  21 : Accuraccy =  0.9178333333333333 \tError:  170.30122304958263  --\n",
      "-- Test:  21 : Accuraccy =  0.9092 \tError:  33.90034583563007  --\n"
     ]
    },
    {
     "name": "stderr",
     "output_type": "stream",
     "text": [
      " 23%|██▎       | 23/100 [01:12<04:09,  3.24s/it]"
     ]
    },
    {
     "name": "stdout",
     "output_type": "stream",
     "text": [
      "-- Train:  22 : Accuraccy =  0.9171833333333334 \tError:  171.24116048495955  --\n",
      "-- Test:  22 : Accuraccy =  0.9082 \tError:  34.23863912264184  --\n"
     ]
    },
    {
     "name": "stderr",
     "output_type": "stream",
     "text": [
      " 24%|██▍       | 24/100 [01:15<04:07,  3.25s/it]"
     ]
    },
    {
     "name": "stdout",
     "output_type": "stream",
     "text": [
      "-- Train:  23 : Accuraccy =  0.9166833333333333 \tError:  171.97509981429113  --\n",
      "-- Test:  23 : Accuraccy =  0.908 \tError:  34.33385465480196  --\n"
     ]
    },
    {
     "name": "stderr",
     "output_type": "stream",
     "text": [
      " 25%|██▌       | 25/100 [01:19<04:04,  3.25s/it]"
     ]
    },
    {
     "name": "stdout",
     "output_type": "stream",
     "text": [
      "-- Train:  24 : Accuraccy =  0.9162166666666667 \tError:  172.86465630592582  --\n",
      "-- Test:  24 : Accuraccy =  0.9076 \tError:  34.66698125567644  --\n"
     ]
    },
    {
     "name": "stderr",
     "output_type": "stream",
     "text": [
      " 26%|██▌       | 26/100 [01:22<03:57,  3.21s/it]"
     ]
    },
    {
     "name": "stdout",
     "output_type": "stream",
     "text": [
      "-- Train:  25 : Accuraccy =  0.9157333333333333 \tError:  173.498542445606  --\n",
      "-- Test:  25 : Accuraccy =  0.9073 \tError:  34.77749712325105  --\n"
     ]
    },
    {
     "name": "stderr",
     "output_type": "stream",
     "text": [
      " 27%|██▋       | 27/100 [01:25<03:56,  3.23s/it]"
     ]
    },
    {
     "name": "stdout",
     "output_type": "stream",
     "text": [
      "-- Train:  26 : Accuraccy =  0.9151 \tError:  174.33663928358158  --\n",
      "-- Test:  26 : Accuraccy =  0.9068 \tError:  34.99249079731359  --\n"
     ]
    },
    {
     "name": "stderr",
     "output_type": "stream",
     "text": [
      " 28%|██▊       | 28/100 [01:28<03:52,  3.23s/it]"
     ]
    },
    {
     "name": "stdout",
     "output_type": "stream",
     "text": [
      "-- Train:  27 : Accuraccy =  0.9148333333333334 \tError:  175.24607034817262  --\n",
      "-- Test:  27 : Accuraccy =  0.9061 \tError:  35.311479627663196  --\n"
     ]
    },
    {
     "name": "stderr",
     "output_type": "stream",
     "text": [
      " 29%|██▉       | 29/100 [01:31<03:50,  3.24s/it]"
     ]
    },
    {
     "name": "stdout",
     "output_type": "stream",
     "text": [
      "-- Train:  28 : Accuraccy =  0.9141166666666667 \tError:  176.02369459662845  --\n",
      "-- Test:  28 : Accuraccy =  0.9056 \tError:  35.413724958948926  --\n"
     ]
    },
    {
     "name": "stderr",
     "output_type": "stream",
     "text": [
      " 30%|███       | 30/100 [01:35<03:46,  3.23s/it]"
     ]
    },
    {
     "name": "stdout",
     "output_type": "stream",
     "text": [
      "-- Train:  29 : Accuraccy =  0.91375 \tError:  176.76176762480657  --\n",
      "-- Test:  29 : Accuraccy =  0.9048 \tError:  35.71121255761517  --\n"
     ]
    },
    {
     "name": "stderr",
     "output_type": "stream",
     "text": [
      " 31%|███       | 31/100 [01:38<03:44,  3.25s/it]"
     ]
    },
    {
     "name": "stdout",
     "output_type": "stream",
     "text": [
      "-- Train:  30 : Accuraccy =  0.91325 \tError:  177.6184769160914  --\n",
      "-- Test:  30 : Accuraccy =  0.9046 \tError:  35.92874408408237  --\n"
     ]
    },
    {
     "name": "stderr",
     "output_type": "stream",
     "text": [
      " 32%|███▏      | 32/100 [01:41<03:40,  3.25s/it]"
     ]
    },
    {
     "name": "stdout",
     "output_type": "stream",
     "text": [
      "-- Train:  31 : Accuraccy =  0.9127166666666666 \tError:  178.43947007009436  --\n",
      "-- Test:  31 : Accuraccy =  0.9044 \tError:  36.02203849702404  --\n"
     ]
    },
    {
     "name": "stderr",
     "output_type": "stream",
     "text": [
      " 33%|███▎      | 33/100 [01:44<03:37,  3.25s/it]"
     ]
    },
    {
     "name": "stdout",
     "output_type": "stream",
     "text": [
      "-- Train:  32 : Accuraccy =  0.912 \tError:  179.2162824619006  --\n",
      "-- Test:  32 : Accuraccy =  0.904 \tError:  36.226637346070305  --\n"
     ]
    },
    {
     "name": "stderr",
     "output_type": "stream",
     "text": [
      " 34%|███▍      | 34/100 [01:48<03:33,  3.24s/it]"
     ]
    },
    {
     "name": "stdout",
     "output_type": "stream",
     "text": [
      "-- Train:  33 : Accuraccy =  0.9114166666666667 \tError:  180.052838856333  --\n",
      "-- Test:  33 : Accuraccy =  0.9032 \tError:  36.517142956235965  --\n"
     ]
    },
    {
     "name": "stderr",
     "output_type": "stream",
     "text": [
      " 35%|███▌      | 35/100 [01:51<03:30,  3.25s/it]"
     ]
    },
    {
     "name": "stdout",
     "output_type": "stream",
     "text": [
      "-- Train:  34 : Accuraccy =  0.91075 \tError:  180.84813757223765  --\n",
      "-- Test:  34 : Accuraccy =  0.9028 \tError:  36.72638852539978  --\n"
     ]
    },
    {
     "name": "stderr",
     "output_type": "stream",
     "text": [
      " 36%|███▌      | 36/100 [01:54<03:26,  3.23s/it]"
     ]
    },
    {
     "name": "stdout",
     "output_type": "stream",
     "text": [
      "-- Train:  35 : Accuraccy =  0.91065 \tError:  181.5818511192159  --\n",
      "-- Test:  35 : Accuraccy =  0.902 \tError:  36.80907759266244  --\n"
     ]
    },
    {
     "name": "stderr",
     "output_type": "stream",
     "text": [
      " 37%|███▋      | 37/100 [01:57<03:24,  3.24s/it]"
     ]
    },
    {
     "name": "stdout",
     "output_type": "stream",
     "text": [
      "-- Train:  36 : Accuraccy =  0.9100333333333334 \tError:  182.40449774613265  --\n",
      "-- Test:  36 : Accuraccy =  0.9017 \tError:  37.00544337014745  --\n"
     ]
    },
    {
     "name": "stderr",
     "output_type": "stream",
     "text": [
      " 38%|███▊      | 38/100 [02:01<03:21,  3.25s/it]"
     ]
    },
    {
     "name": "stdout",
     "output_type": "stream",
     "text": [
      "-- Train:  37 : Accuraccy =  0.90965 \tError:  183.11006858946007  --\n",
      "-- Test:  37 : Accuraccy =  0.9011 \tError:  37.27850536106724  --\n"
     ]
    },
    {
     "name": "stderr",
     "output_type": "stream",
     "text": [
      " 39%|███▉      | 39/100 [02:04<03:19,  3.27s/it]"
     ]
    },
    {
     "name": "stdout",
     "output_type": "stream",
     "text": [
      "-- Train:  38 : Accuraccy =  0.9092666666666667 \tError:  183.94306941016802  --\n",
      "-- Test:  38 : Accuraccy =  0.9012 \tError:  37.47353572176919  --\n"
     ]
    },
    {
     "name": "stderr",
     "output_type": "stream",
     "text": [
      " 40%|████      | 40/100 [02:07<03:15,  3.26s/it]"
     ]
    },
    {
     "name": "stdout",
     "output_type": "stream",
     "text": [
      "-- Train:  39 : Accuraccy =  0.9086 \tError:  184.73491684206692  --\n",
      "-- Test:  39 : Accuraccy =  0.9004 \tError:  37.59654978677392  --\n"
     ]
    },
    {
     "name": "stderr",
     "output_type": "stream",
     "text": [
      " 41%|████      | 41/100 [02:10<03:12,  3.26s/it]"
     ]
    },
    {
     "name": "stdout",
     "output_type": "stream",
     "text": [
      "-- Train:  40 : Accuraccy =  0.9081 \tError:  185.54104050889873  --\n",
      "-- Test:  40 : Accuraccy =  0.9 \tError:  37.86415181395993  --\n"
     ]
    },
    {
     "name": "stderr",
     "output_type": "stream",
     "text": [
      " 42%|████▏     | 42/100 [02:14<03:09,  3.27s/it]"
     ]
    },
    {
     "name": "stdout",
     "output_type": "stream",
     "text": [
      "-- Train:  41 : Accuraccy =  0.9076666666666666 \tError:  186.28940097424262  --\n",
      "-- Test:  41 : Accuraccy =  0.8996 \tError:  37.937946297098186  --\n"
     ]
    },
    {
     "name": "stderr",
     "output_type": "stream",
     "text": [
      " 43%|████▎     | 43/100 [02:17<03:06,  3.27s/it]"
     ]
    },
    {
     "name": "stdout",
     "output_type": "stream",
     "text": [
      "-- Train:  42 : Accuraccy =  0.9072833333333333 \tError:  186.9551776112148  --\n",
      "-- Test:  42 : Accuraccy =  0.8986 \tError:  38.20144335443219  --\n"
     ]
    },
    {
     "name": "stderr",
     "output_type": "stream",
     "text": [
      " 44%|████▍     | 44/100 [02:20<03:02,  3.27s/it]"
     ]
    },
    {
     "name": "stdout",
     "output_type": "stream",
     "text": [
      "-- Train:  43 : Accuraccy =  0.90655 \tError:  187.77411686551255  --\n",
      "-- Test:  43 : Accuraccy =  0.8979 \tError:  38.38954951348557  --\n"
     ]
    },
    {
     "name": "stderr",
     "output_type": "stream",
     "text": [
      " 45%|████▌     | 45/100 [02:24<03:00,  3.28s/it]"
     ]
    },
    {
     "name": "stdout",
     "output_type": "stream",
     "text": [
      "-- Train:  44 : Accuraccy =  0.9061833333333333 \tError:  188.53367002031024  --\n",
      "-- Test:  44 : Accuraccy =  0.8978 \tError:  38.46302605986536  --\n"
     ]
    },
    {
     "name": "stderr",
     "output_type": "stream",
     "text": [
      " 46%|████▌     | 46/100 [02:27<02:57,  3.29s/it]"
     ]
    },
    {
     "name": "stdout",
     "output_type": "stream",
     "text": [
      "-- Train:  45 : Accuraccy =  0.9056333333333333 \tError:  189.33793433971903  --\n",
      "-- Test:  45 : Accuraccy =  0.8974 \tError:  38.71143244837769  --\n"
     ]
    },
    {
     "name": "stderr",
     "output_type": "stream",
     "text": [
      " 47%|████▋     | 47/100 [02:30<02:54,  3.29s/it]"
     ]
    },
    {
     "name": "stdout",
     "output_type": "stream",
     "text": [
      "-- Train:  46 : Accuraccy =  0.90505 \tError:  189.95013780780334  --\n",
      "-- Test:  46 : Accuraccy =  0.8971 \tError:  38.81129320813137  --\n"
     ]
    },
    {
     "name": "stderr",
     "output_type": "stream",
     "text": [
      " 48%|████▊     | 48/100 [02:33<02:50,  3.27s/it]"
     ]
    },
    {
     "name": "stdout",
     "output_type": "stream",
     "text": [
      "-- Train:  47 : Accuraccy =  0.90465 \tError:  190.7730089673604  --\n",
      "-- Test:  47 : Accuraccy =  0.8965 \tError:  39.0457782668254  --\n"
     ]
    },
    {
     "name": "stderr",
     "output_type": "stream",
     "text": [
      " 49%|████▉     | 49/100 [02:37<02:46,  3.27s/it]"
     ]
    },
    {
     "name": "stdout",
     "output_type": "stream",
     "text": [
      "-- Train:  48 : Accuraccy =  0.9041833333333333 \tError:  191.5751932659475  --\n",
      "-- Test:  48 : Accuraccy =  0.8961 \tError:  39.266815699507426  --\n"
     ]
    },
    {
     "name": "stderr",
     "output_type": "stream",
     "text": [
      " 50%|█████     | 50/100 [02:40<02:41,  3.24s/it]"
     ]
    },
    {
     "name": "stdout",
     "output_type": "stream",
     "text": [
      "-- Train:  49 : Accuraccy =  0.9039666666666667 \tError:  192.183494585388  --\n",
      "-- Test:  49 : Accuraccy =  0.8962 \tError:  39.321192570753226  --\n"
     ]
    },
    {
     "name": "stderr",
     "output_type": "stream",
     "text": [
      " 51%|█████     | 51/100 [02:43<02:39,  3.25s/it]"
     ]
    },
    {
     "name": "stdout",
     "output_type": "stream",
     "text": [
      "-- Train:  50 : Accuraccy =  0.9035666666666666 \tError:  192.98194082618483  --\n",
      "-- Test:  50 : Accuraccy =  0.8955 \tError:  39.49004111858086  --\n"
     ]
    },
    {
     "name": "stderr",
     "output_type": "stream",
     "text": [
      " 52%|█████▏    | 52/100 [02:46<02:34,  3.22s/it]"
     ]
    },
    {
     "name": "stdout",
     "output_type": "stream",
     "text": [
      "-- Train:  51 : Accuraccy =  0.9033166666666667 \tError:  193.76789996887612  --\n",
      "-- Test:  51 : Accuraccy =  0.8956 \tError:  39.72009514135679  --\n"
     ]
    },
    {
     "name": "stderr",
     "output_type": "stream",
     "text": [
      " 53%|█████▎    | 53/100 [02:50<02:32,  3.25s/it]"
     ]
    },
    {
     "name": "stdout",
     "output_type": "stream",
     "text": [
      "-- Train:  52 : Accuraccy =  0.9028666666666667 \tError:  194.36083880211103  --\n",
      "-- Test:  52 : Accuraccy =  0.8953 \tError:  39.8704045417177  --\n"
     ]
    },
    {
     "name": "stderr",
     "output_type": "stream",
     "text": [
      " 54%|█████▍    | 54/100 [02:53<02:28,  3.23s/it]"
     ]
    },
    {
     "name": "stdout",
     "output_type": "stream",
     "text": [
      "-- Train:  53 : Accuraccy =  0.9023333333333333 \tError:  195.14977857852503  --\n",
      "-- Test:  53 : Accuraccy =  0.8951 \tError:  40.04042558060749  --\n"
     ]
    },
    {
     "name": "stderr",
     "output_type": "stream",
     "text": [
      " 55%|█████▌    | 55/100 [02:56<02:25,  3.24s/it]"
     ]
    },
    {
     "name": "stdout",
     "output_type": "stream",
     "text": [
      "-- Train:  54 : Accuraccy =  0.9019833333333334 \tError:  195.90425237508714  --\n",
      "-- Test:  54 : Accuraccy =  0.8951 \tError:  40.19890053718349  --\n"
     ]
    },
    {
     "name": "stderr",
     "output_type": "stream",
     "text": [
      " 56%|█████▌    | 56/100 [02:59<02:22,  3.23s/it]"
     ]
    },
    {
     "name": "stdout",
     "output_type": "stream",
     "text": [
      "-- Train:  55 : Accuraccy =  0.9017 \tError:  196.60049287275288  --\n",
      "-- Test:  55 : Accuraccy =  0.894 \tError:  40.36517773234553  --\n"
     ]
    },
    {
     "name": "stderr",
     "output_type": "stream",
     "text": [
      " 57%|█████▋    | 57/100 [03:03<02:19,  3.25s/it]"
     ]
    },
    {
     "name": "stdout",
     "output_type": "stream",
     "text": [
      "-- Train:  56 : Accuraccy =  0.9014 \tError:  197.3295833124223  --\n",
      "-- Test:  56 : Accuraccy =  0.8935 \tError:  40.52138114296038  --\n"
     ]
    },
    {
     "name": "stderr",
     "output_type": "stream",
     "text": [
      " 58%|█████▊    | 58/100 [03:06<02:15,  3.24s/it]"
     ]
    },
    {
     "name": "stdout",
     "output_type": "stream",
     "text": [
      "-- Train:  57 : Accuraccy =  0.9010666666666667 \tError:  197.8994803444271  --\n",
      "-- Test:  57 : Accuraccy =  0.8929 \tError:  40.69018192346627  --\n"
     ]
    },
    {
     "name": "stderr",
     "output_type": "stream",
     "text": [
      " 59%|█████▉    | 59/100 [03:09<02:13,  3.26s/it]"
     ]
    },
    {
     "name": "stdout",
     "output_type": "stream",
     "text": [
      "-- Train:  58 : Accuraccy =  0.9007166666666667 \tError:  198.67117515300134  --\n",
      "-- Test:  58 : Accuraccy =  0.8926 \tError:  40.84597229894711  --\n"
     ]
    },
    {
     "name": "stderr",
     "output_type": "stream",
     "text": [
      " 60%|██████    | 60/100 [03:12<02:10,  3.26s/it]"
     ]
    },
    {
     "name": "stdout",
     "output_type": "stream",
     "text": [
      "-- Train:  59 : Accuraccy =  0.9004 \tError:  199.37575363163592  --\n",
      "-- Test:  59 : Accuraccy =  0.8922 \tError:  40.911800228122026  --\n"
     ]
    },
    {
     "name": "stderr",
     "output_type": "stream",
     "text": [
      " 61%|██████    | 61/100 [03:16<02:07,  3.27s/it]"
     ]
    },
    {
     "name": "stdout",
     "output_type": "stream",
     "text": [
      "-- Train:  60 : Accuraccy =  0.9000333333333334 \tError:  200.07922953617725  --\n",
      "-- Test:  60 : Accuraccy =  0.892 \tError:  41.07060061088683  --\n"
     ]
    },
    {
     "name": "stderr",
     "output_type": "stream",
     "text": [
      " 62%|██████▏   | 62/100 [03:19<02:03,  3.26s/it]"
     ]
    },
    {
     "name": "stdout",
     "output_type": "stream",
     "text": [
      "-- Train:  61 : Accuraccy =  0.89965 \tError:  200.72759046413958  --\n",
      "-- Test:  61 : Accuraccy =  0.8914 \tError:  41.282054339372635  --\n"
     ]
    },
    {
     "name": "stderr",
     "output_type": "stream",
     "text": [
      " 63%|██████▎   | 63/100 [03:22<02:00,  3.27s/it]"
     ]
    },
    {
     "name": "stdout",
     "output_type": "stream",
     "text": [
      "-- Train:  62 : Accuraccy =  0.8991666666666667 \tError:  201.4662858440153  --\n",
      "-- Test:  62 : Accuraccy =  0.8912 \tError:  41.42242141023485  --\n"
     ]
    },
    {
     "name": "stderr",
     "output_type": "stream",
     "text": [
      " 64%|██████▍   | 64/100 [03:25<01:58,  3.28s/it]"
     ]
    },
    {
     "name": "stdout",
     "output_type": "stream",
     "text": [
      "-- Train:  63 : Accuraccy =  0.8988 \tError:  202.00609984092145  --\n",
      "-- Test:  63 : Accuraccy =  0.8906 \tError:  41.57731434619936  --\n"
     ]
    },
    {
     "name": "stderr",
     "output_type": "stream",
     "text": [
      " 65%|██████▌   | 65/100 [03:29<01:54,  3.28s/it]"
     ]
    },
    {
     "name": "stdout",
     "output_type": "stream",
     "text": [
      "-- Train:  64 : Accuraccy =  0.8983833333333333 \tError:  202.75539721618364  --\n",
      "-- Test:  64 : Accuraccy =  0.8901 \tError:  41.7238635943236  --\n"
     ]
    },
    {
     "name": "stderr",
     "output_type": "stream",
     "text": [
      " 66%|██████▌   | 66/100 [03:32<01:50,  3.26s/it]"
     ]
    },
    {
     "name": "stdout",
     "output_type": "stream",
     "text": [
      "-- Train:  65 : Accuraccy =  0.8981 \tError:  203.46314826443745  --\n",
      "-- Test:  65 : Accuraccy =  0.8898 \tError:  41.875080874268015  --\n"
     ]
    },
    {
     "name": "stderr",
     "output_type": "stream",
     "text": [
      " 67%|██████▋   | 67/100 [03:35<01:47,  3.27s/it]"
     ]
    },
    {
     "name": "stdout",
     "output_type": "stream",
     "text": [
      "-- Train:  66 : Accuraccy =  0.89775 \tError:  204.14796321904313  --\n",
      "-- Test:  66 : Accuraccy =  0.8894 \tError:  42.016454797967256  --\n"
     ]
    },
    {
     "name": "stderr",
     "output_type": "stream",
     "text": [
      " 68%|██████▊   | 68/100 [03:39<01:46,  3.33s/it]"
     ]
    },
    {
     "name": "stdout",
     "output_type": "stream",
     "text": [
      "-- Train:  67 : Accuraccy =  0.8975666666666666 \tError:  204.68907233008179  --\n",
      "-- Test:  67 : Accuraccy =  0.8893 \tError:  42.163432337414285  --\n"
     ]
    },
    {
     "name": "stderr",
     "output_type": "stream",
     "text": [
      " 69%|██████▉   | 69/100 [03:42<01:43,  3.33s/it]"
     ]
    },
    {
     "name": "stdout",
     "output_type": "stream",
     "text": [
      "-- Train:  68 : Accuraccy =  0.8972833333333333 \tError:  205.42141289362243  --\n",
      "-- Test:  68 : Accuraccy =  0.8892 \tError:  42.302535634188736  --\n"
     ]
    },
    {
     "name": "stderr",
     "output_type": "stream",
     "text": [
      " 70%|███████   | 70/100 [03:45<01:39,  3.32s/it]"
     ]
    },
    {
     "name": "stdout",
     "output_type": "stream",
     "text": [
      "-- Train:  69 : Accuraccy =  0.89675 \tError:  206.10955530121703  --\n",
      "-- Test:  69 : Accuraccy =  0.8891 \tError:  42.44717609502424  --\n"
     ]
    },
    {
     "name": "stderr",
     "output_type": "stream",
     "text": [
      " 71%|███████   | 71/100 [03:49<01:35,  3.31s/it]"
     ]
    },
    {
     "name": "stdout",
     "output_type": "stream",
     "text": [
      "-- Train:  70 : Accuraccy =  0.89645 \tError:  206.71413221254207  --\n",
      "-- Test:  70 : Accuraccy =  0.8887 \tError:  42.58359192894165  --\n"
     ]
    },
    {
     "name": "stderr",
     "output_type": "stream",
     "text": [
      " 72%|███████▏  | 72/100 [03:52<01:31,  3.28s/it]"
     ]
    },
    {
     "name": "stdout",
     "output_type": "stream",
     "text": [
      "-- Train:  71 : Accuraccy =  0.8960666666666667 \tError:  207.40971446191296  --\n",
      "-- Test:  71 : Accuraccy =  0.8885 \tError:  42.72707334794505  --\n"
     ]
    },
    {
     "name": "stderr",
     "output_type": "stream",
     "text": [
      " 73%|███████▎  | 73/100 [03:55<01:27,  3.25s/it]"
     ]
    },
    {
     "name": "stdout",
     "output_type": "stream",
     "text": [
      "-- Train:  72 : Accuraccy =  0.8955833333333333 \tError:  207.95476263997716  --\n",
      "-- Test:  72 : Accuraccy =  0.8884 \tError:  42.86117472569919  --\n"
     ]
    },
    {
     "name": "stderr",
     "output_type": "stream",
     "text": [
      " 74%|███████▍  | 74/100 [03:58<01:24,  3.25s/it]"
     ]
    },
    {
     "name": "stdout",
     "output_type": "stream",
     "text": [
      "-- Train:  73 : Accuraccy =  0.89525 \tError:  208.65154717290633  --\n",
      "-- Test:  73 : Accuraccy =  0.8879 \tError:  43.00279350876836  --\n"
     ]
    },
    {
     "name": "stderr",
     "output_type": "stream",
     "text": [
      " 75%|███████▌  | 75/100 [04:01<01:20,  3.23s/it]"
     ]
    },
    {
     "name": "stdout",
     "output_type": "stream",
     "text": [
      "-- Train:  74 : Accuraccy =  0.8950333333333333 \tError:  209.3349688392772  --\n",
      "-- Test:  74 : Accuraccy =  0.8876 \tError:  43.135518524827695  --\n"
     ]
    },
    {
     "name": "stderr",
     "output_type": "stream",
     "text": [
      " 76%|███████▌  | 76/100 [04:05<01:18,  3.27s/it]"
     ]
    },
    {
     "name": "stdout",
     "output_type": "stream",
     "text": [
      "-- Train:  75 : Accuraccy =  0.8947833333333334 \tError:  209.81080887508455  --\n",
      "-- Test:  75 : Accuraccy =  0.8869 \tError:  43.27369417589271  --\n"
     ]
    },
    {
     "name": "stderr",
     "output_type": "stream",
     "text": [
      " 77%|███████▋  | 77/100 [04:08<01:15,  3.30s/it]"
     ]
    },
    {
     "name": "stdout",
     "output_type": "stream",
     "text": [
      "-- Train:  76 : Accuraccy =  0.89445 \tError:  210.52269751446553  --\n",
      "-- Test:  76 : Accuraccy =  0.8867 \tError:  43.40555781488249  --\n"
     ]
    },
    {
     "name": "stderr",
     "output_type": "stream",
     "text": [
      " 78%|███████▊  | 78/100 [04:11<01:12,  3.30s/it]"
     ]
    },
    {
     "name": "stdout",
     "output_type": "stream",
     "text": [
      "-- Train:  77 : Accuraccy =  0.8941166666666667 \tError:  211.17852375209065  --\n",
      "-- Test:  77 : Accuraccy =  0.8862 \tError:  43.54213183500587  --\n"
     ]
    },
    {
     "name": "stderr",
     "output_type": "stream",
     "text": [
      " 79%|███████▉  | 79/100 [04:15<01:09,  3.29s/it]"
     ]
    },
    {
     "name": "stdout",
     "output_type": "stream",
     "text": [
      "-- Train:  78 : Accuraccy =  0.8939 \tError:  211.83842405601317  --\n",
      "-- Test:  78 : Accuraccy =  0.8858 \tError:  43.67133162120392  --\n"
     ]
    },
    {
     "name": "stderr",
     "output_type": "stream",
     "text": [
      " 80%|████████  | 80/100 [04:18<01:06,  3.31s/it]"
     ]
    },
    {
     "name": "stdout",
     "output_type": "stream",
     "text": [
      "-- Train:  79 : Accuraccy =  0.8935333333333333 \tError:  212.26252091244245  --\n",
      "-- Test:  79 : Accuraccy =  0.885 \tError:  43.80546810280213  --\n"
     ]
    },
    {
     "name": "stderr",
     "output_type": "stream",
     "text": [
      " 81%|████████  | 81/100 [04:21<01:02,  3.29s/it]"
     ]
    },
    {
     "name": "stdout",
     "output_type": "stream",
     "text": [
      "-- Train:  80 : Accuraccy =  0.8932166666666667 \tError:  212.97078351185326  --\n",
      "-- Test:  80 : Accuraccy =  0.8848 \tError:  43.93375106698324  --\n"
     ]
    },
    {
     "name": "stderr",
     "output_type": "stream",
     "text": [
      " 82%|████████▏ | 82/100 [04:25<00:59,  3.29s/it]"
     ]
    },
    {
     "name": "stdout",
     "output_type": "stream",
     "text": [
      "-- Train:  81 : Accuraccy =  0.8928666666666667 \tError:  213.61138610900417  --\n",
      "-- Test:  81 : Accuraccy =  0.8846 \tError:  44.06670727176479  --\n"
     ]
    },
    {
     "name": "stderr",
     "output_type": "stream",
     "text": [
      " 83%|████████▎ | 83/100 [04:28<00:55,  3.27s/it]"
     ]
    },
    {
     "name": "stdout",
     "output_type": "stream",
     "text": [
      "-- Train:  82 : Accuraccy =  0.8925333333333333 \tError:  214.27137085610832  --\n",
      "-- Test:  82 : Accuraccy =  0.8843 \tError:  44.19220344671362  --\n"
     ]
    },
    {
     "name": "stderr",
     "output_type": "stream",
     "text": [
      " 84%|████████▍ | 84/100 [04:31<00:52,  3.27s/it]"
     ]
    },
    {
     "name": "stdout",
     "output_type": "stream",
     "text": [
      "-- Train:  83 : Accuraccy =  0.89225 \tError:  214.80968599542874  --\n",
      "-- Test:  83 : Accuraccy =  0.884 \tError:  44.32350099560336  --\n"
     ]
    },
    {
     "name": "stderr",
     "output_type": "stream",
     "text": [
      " 85%|████████▌ | 85/100 [04:34<00:49,  3.28s/it]"
     ]
    },
    {
     "name": "stdout",
     "output_type": "stream",
     "text": [
      "-- Train:  84 : Accuraccy =  0.892 \tError:  215.47951305546565  --\n",
      "-- Test:  84 : Accuraccy =  0.8836 \tError:  44.44734507622773  --\n"
     ]
    },
    {
     "name": "stderr",
     "output_type": "stream",
     "text": [
      " 86%|████████▌ | 86/100 [04:38<00:45,  3.26s/it]"
     ]
    },
    {
     "name": "stdout",
     "output_type": "stream",
     "text": [
      "-- Train:  85 : Accuraccy =  0.8917166666666667 \tError:  215.96501756006563  --\n",
      "-- Test:  85 : Accuraccy =  0.8835 \tError:  44.576555609168416  --\n"
     ]
    },
    {
     "name": "stderr",
     "output_type": "stream",
     "text": [
      " 87%|████████▋ | 87/100 [04:41<00:42,  3.26s/it]"
     ]
    },
    {
     "name": "stdout",
     "output_type": "stream",
     "text": [
      "-- Train:  86 : Accuraccy =  0.8914166666666666 \tError:  216.63672745499125  --\n",
      "-- Test:  86 : Accuraccy =  0.8832 \tError:  44.69878355627789  --\n"
     ]
    },
    {
     "name": "stderr",
     "output_type": "stream",
     "text": [
      " 88%|████████▊ | 88/100 [04:44<00:38,  3.22s/it]"
     ]
    },
    {
     "name": "stdout",
     "output_type": "stream",
     "text": [
      "-- Train:  87 : Accuraccy =  0.8911333333333333 \tError:  217.25160154628185  --\n",
      "-- Test:  87 : Accuraccy =  0.8828 \tError:  44.82740934381557  --\n"
     ]
    },
    {
     "name": "stderr",
     "output_type": "stream",
     "text": [
      " 89%|████████▉ | 89/100 [04:47<00:35,  3.22s/it]"
     ]
    },
    {
     "name": "stdout",
     "output_type": "stream",
     "text": [
      "-- Train:  88 : Accuraccy =  0.8908833333333334 \tError:  217.66852619380256  --\n",
      "-- Test:  88 : Accuraccy =  0.8828 \tError:  44.9455626457028  --\n"
     ]
    },
    {
     "name": "stderr",
     "output_type": "stream",
     "text": [
      " 90%|█████████ | 90/100 [04:50<00:32,  3.23s/it]"
     ]
    },
    {
     "name": "stdout",
     "output_type": "stream",
     "text": [
      "-- Train:  89 : Accuraccy =  0.8905333333333333 \tError:  218.3242419140615  --\n",
      "-- Test:  89 : Accuraccy =  0.8826 \tError:  45.074280987750534  --\n"
     ]
    },
    {
     "name": "stderr",
     "output_type": "stream",
     "text": [
      " 91%|█████████ | 91/100 [04:54<00:29,  3.22s/it]"
     ]
    },
    {
     "name": "stdout",
     "output_type": "stream",
     "text": [
      "-- Train:  90 : Accuraccy =  0.89015 \tError:  218.95763663591563  --\n",
      "-- Test:  90 : Accuraccy =  0.8822 \tError:  45.191330956902426  --\n"
     ]
    },
    {
     "name": "stderr",
     "output_type": "stream",
     "text": [
      " 92%|█████████▏| 92/100 [04:57<00:25,  3.21s/it]"
     ]
    },
    {
     "name": "stdout",
     "output_type": "stream",
     "text": [
      "-- Train:  91 : Accuraccy =  0.8897833333333334 \tError:  219.56596286786274  --\n",
      "-- Test:  91 : Accuraccy =  0.8817 \tError:  45.3179277901348  --\n"
     ]
    },
    {
     "name": "stderr",
     "output_type": "stream",
     "text": [
      " 93%|█████████▎| 93/100 [05:00<00:22,  3.24s/it]"
     ]
    },
    {
     "name": "stdout",
     "output_type": "stream",
     "text": [
      "-- Train:  92 : Accuraccy =  0.8895 \tError:  220.0720288967207  --\n",
      "-- Test:  92 : Accuraccy =  0.8817 \tError:  45.432541315578035  --\n"
     ]
    },
    {
     "name": "stderr",
     "output_type": "stream",
     "text": [
      " 94%|█████████▍| 94/100 [05:03<00:19,  3.24s/it]"
     ]
    },
    {
     "name": "stdout",
     "output_type": "stream",
     "text": [
      "-- Train:  93 : Accuraccy =  0.8891 \tError:  220.6959873250906  --\n",
      "-- Test:  93 : Accuraccy =  0.8816 \tError:  45.55842733302335  --\n"
     ]
    },
    {
     "name": "stderr",
     "output_type": "stream",
     "text": [
      " 95%|█████████▌| 95/100 [05:07<00:16,  3.21s/it]"
     ]
    },
    {
     "name": "stdout",
     "output_type": "stream",
     "text": [
      "-- Train:  94 : Accuraccy =  0.8888 \tError:  221.28698369948904  --\n",
      "-- Test:  94 : Accuraccy =  0.8812 \tError:  45.67136238810609  --\n"
     ]
    },
    {
     "name": "stderr",
     "output_type": "stream",
     "text": [
      " 96%|█████████▌| 96/100 [05:10<00:12,  3.22s/it]"
     ]
    },
    {
     "name": "stdout",
     "output_type": "stream",
     "text": [
      "-- Train:  95 : Accuraccy =  0.88855 \tError:  221.72499255437447  --\n",
      "-- Test:  95 : Accuraccy =  0.881 \tError:  45.794685929885226  --\n"
     ]
    },
    {
     "name": "stderr",
     "output_type": "stream",
     "text": [
      " 97%|█████████▋| 97/100 [05:13<00:09,  3.19s/it]"
     ]
    },
    {
     "name": "stdout",
     "output_type": "stream",
     "text": [
      "-- Train:  96 : Accuraccy =  0.8883166666666666 \tError:  222.37014657216614  --\n",
      "-- Test:  96 : Accuraccy =  0.8808 \tError:  45.90712527772732  --\n"
     ]
    },
    {
     "name": "stderr",
     "output_type": "stream",
     "text": [
      " 98%|█████████▊| 98/100 [05:16<00:06,  3.21s/it]"
     ]
    },
    {
     "name": "stdout",
     "output_type": "stream",
     "text": [
      "-- Train:  97 : Accuraccy =  0.8879666666666667 \tError:  222.9587070169192  --\n",
      "-- Test:  97 : Accuraccy =  0.8804 \tError:  46.02993741660943  --\n"
     ]
    },
    {
     "name": "stderr",
     "output_type": "stream",
     "text": [
      " 99%|█████████▉| 99/100 [05:19<00:03,  3.23s/it]"
     ]
    },
    {
     "name": "stdout",
     "output_type": "stream",
     "text": [
      "-- Train:  98 : Accuraccy =  0.88785 \tError:  223.4497358637163  --\n",
      "-- Test:  98 : Accuraccy =  0.8804 \tError:  46.138681175013  --\n"
     ]
    },
    {
     "name": "stderr",
     "output_type": "stream",
     "text": [
      "100%|██████████| 100/100 [05:23<00:00,  3.23s/it]"
     ]
    },
    {
     "name": "stdout",
     "output_type": "stream",
     "text": [
      "-- Train:  99 : Accuraccy =  0.8874833333333333 \tError:  224.05638571650826  --\n",
      "-- Test:  99 : Accuraccy =  0.8802 \tError:  46.26147314194427  --\n"
     ]
    },
    {
     "name": "stderr",
     "output_type": "stream",
     "text": [
      "\n"
     ]
    },
    {
     "data": {
      "image/png": "[encoded data removed]",
      "text/plain": [
       "<Figure size 640x480 with 1 Axes>"
      ]
     },
     "metadata": {},
     "output_type": "display_data"
    },
    {
     "data": {
      "image/png": "[encoded data removed]",
      "text/plain": [
       "<Figure size 640x480 with 1 Axes>"
      ]
     },
     "metadata": {},
     "output_type": "display_data"
    },
    {
     "data": {
      "image/png": "[encoded data removed]",
      "text/plain": [
       "<Figure size 640x480 with 1 Axes>"
      ]
     },
     "metadata": {},
     "output_type": "display_data"
    },
    {
     "data": {
      "image/png": "[encoded data removed]",
      "text/plain": [
       "<Figure size 640x480 with 1 Axes>"
      ]
     },
     "metadata": {},
     "output_type": "display_data"
    }
   ],
   "source": [
    "result = LogisticRegression(train_X, test_X, train_y, test_y,lr = 0.005, batch_size=100,epoch=100)"
   ]
  },
  {
   "cell_type": "code",
   "execution_count": null,
   "metadata": {},
   "outputs": [],
   "source": [
    "hyper_param = {\n",
    "    \"lr\": [0.0025, 0.005],\n",
    "    \"epochs\": [15, 100],\n",
    "    \"batch\": [100, 10],\n",
    "    \"learning_decay\": [0, 1],\n",
    "    \"decay_factor\": [0.75, 0.5],\n",
    "    \"momentum\": [0, 1],\n",
    "    \"mu\": [0.9, 0.9]\n",
    "}\n"
   ]
  },
  {
   "attachments": {},
   "cell_type": "markdown",
   "metadata": {},
   "source": []
  },
  {
   "cell_type": "markdown",
   "metadata": {},
   "source": []
  }
 ],
 "metadata": {
  "kernelspec": {
   "display_name": "Python 3",
   "language": "python",
   "name": "python3"
  },
  "language_info": {
   "codemirror_mode": {
    "name": "ipython",
    "version": 3
   },
   "file_extension": ".py",
   "mimetype": "text/x-python",
   "name": "python",
   "nbconvert_exporter": "python",
   "pygments_lexer": "ipython3",
   "version": "3.10.9"
  },
  "orig_nbformat": 4,
  "vscode": {
   "interpreter": {
    "hash": "e0a79c76574919354e3ac5f8de62c0c23dfecd089a514de40db9df7886111055"
   }
  }
 },
 "nbformat": 4,
 "nbformat_minor": 2
}
